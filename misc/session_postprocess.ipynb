{
 "cells": [
  {
   "cell_type": "code",
   "execution_count": 1,
   "id": "874ed3f1",
   "metadata": {},
   "outputs": [
    {
     "name": "stdout",
     "output_type": "stream",
     "text": [
      "CWD: /home/lab/cart_pole\n"
     ]
    }
   ],
   "source": [
    "# Find project root\n",
    "import subprocess, os\n",
    "cmd = 'git rev-parse --show-toplevel'\n",
    "root = subprocess.check_output(cmd, shell=True, text=True)\n",
    "os.chdir(root.strip())\n",
    "print('CWD:', os.getcwd())"
   ]
  },
  {
   "cell_type": "code",
   "execution_count": 2,
   "id": "d0771bf7",
   "metadata": {},
   "outputs": [],
   "source": [
    "from sessions.collector import SessionData\n",
    "from misc.simple_server import session_widget\n",
    "from pathlib import Path\n",
    "import pandas\n",
    "import struct\n",
    "import json\n",
    "import math\n",
    "\n",
    "PATH = Path('data/sessions/calibration_test_1')\n",
    "DATA = SessionData.load(PATH / 'session.json')"
   ]
  },
  {
   "cell_type": "code",
   "execution_count": 4,
   "id": "bcd7acfb",
   "metadata": {},
   "outputs": [],
   "source": [
    "#DATA.values[\"state.position\"].x"
   ]
  },
  {
   "cell_type": "code",
   "execution_count": 5,
   "id": "53c111ce",
   "metadata": {},
   "outputs": [],
   "source": [
    "# abs_pole_angles = []\n",
    "# rotations_arr = []\n",
    "# rotations = 0\n",
    "# prev = 0\n",
    "# max_delta = math.pi\n",
    "# for curr in DATA.values['state.pole_angle'].y:\n",
    "#     delta = curr - prev\n",
    "#     if delta > max_delta:\n",
    "#         rotations -= 1\n",
    "#     elif delta < -max_delta:\n",
    "#         rotations += 1\n",
    "#     abs_angle = 2 * math.pi * rotations + curr\n",
    "#     abs_pole_angles.append(abs_angle)\n",
    "#     rotations_arr.append(2 * math.pi * rotations)\n",
    "#     prev = curr\n",
    "    \n",
    "# id = 'abs_pole_angle'\n",
    "# DATA.values[id] = SessionData.Value(id, id, 'rad', DATA.values['state.pole_angle'].x, abs_pole_angles)\n",
    "# id = 'pole_rotations'\n",
    "# DATA.values[id] = SessionData.Value(id, id, 'rad', DATA.values['state.pole_angle'].x, rotations_arr)"
   ]
  },
  {
   "cell_type": "code",
   "execution_count": 6,
   "id": "c51bbb75",
   "metadata": {},
   "outputs": [
    {
     "data": {
      "text/html": [
       "\n",
       "        <iframe\n",
       "            width=\"\"\n",
       "            height=\"1000\"\n",
       "            src=\"http://localhost:43519/?id=_\"\n",
       "            frameborder=\"0\"\n",
       "            allowfullscreen\n",
       "            style=\"width: 100%\"\n",
       "        ></iframe>\n",
       "        "
      ],
      "text/plain": [
       "<IPython.lib.display.IFrame at 0x7f624043d710>"
      ]
     },
     "execution_count": 6,
     "metadata": {},
     "output_type": "execute_result"
    }
   ],
   "source": [
    "DATA.groups = [\n",
    "    SessionData.Group(name='Position', values=['state.cart_position']),\n",
    "    SessionData.Group(name='Velocity', values=['state.cart_velocity']),\n",
    "    SessionData.Group(name='Acceleration', values=['state.cart_acceleration', 'target.acceleration']),\n",
    "#     SessionData.Group(name='Pole angle', values=['state.pole_angle']),\n",
    "#     SessionData.Group(name='Pole velocity', values=['state.pole_velocity']),\n",
    "]\n",
    "session_widget(DATA)"
   ]
  },
  {
   "cell_type": "code",
   "execution_count": null,
   "id": "468a7e37",
   "metadata": {},
   "outputs": [],
   "source": []
  },
  {
   "cell_type": "code",
   "execution_count": null,
   "id": "42a85aac",
   "metadata": {},
   "outputs": [],
   "source": []
  }
 ],
 "metadata": {
  "kernelspec": {
   "display_name": "Python 3 (ipykernel)",
   "language": "python",
   "name": "python3"
  },
  "language_info": {
   "codemirror_mode": {
    "name": "ipython",
    "version": 3
   },
   "file_extension": ".py",
   "mimetype": "text/x-python",
   "name": "python",
   "nbconvert_exporter": "python",
   "pygments_lexer": "ipython3",
   "version": "3.7.5"
  }
 },
 "nbformat": 4,
 "nbformat_minor": 5
}
