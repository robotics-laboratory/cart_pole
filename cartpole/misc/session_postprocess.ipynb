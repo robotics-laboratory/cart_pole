{
 "cells": [
  {
   "cell_type": "code",
   "execution_count": 1,
   "id": "874ed3f1",
   "metadata": {},
   "outputs": [
    {
     "name": "stdout",
     "output_type": "stream",
     "text": [
      "CWD: /home/lab/cart_pole\n"
     ]
    }
   ],
   "source": [
    "# Find project root\n",
    "import subprocess, os\n",
    "cmd = 'git rev-parse --show-toplevel'\n",
    "root = subprocess.check_output(cmd, shell=True, text=True)\n",
    "os.chdir(root.strip())\n",
    "print('CWD:', os.getcwd())"
   ]
  },
  {
   "cell_type": "code",
   "execution_count": 2,
   "id": "d0771bf7",
   "metadata": {},
   "outputs": [],
   "source": [
    "from sessions.collector import SessionData\n",
    "from misc.simple_server import session_widget\n",
    "from pathlib import Path\n",
    "import pandas\n",
    "import struct\n",
    "import json\n",
    "import math\n",
    "\n",
    "PATH = Path('data/sessions/test21')\n",
    "DATA = SessionData.load(PATH / 'session.json')"
   ]
  },
  {
   "cell_type": "code",
   "execution_count": 3,
   "id": "bcd7acfb",
   "metadata": {},
   "outputs": [
    {
     "data": {
      "text/plain": [
       "{'state.cart_position': SessionData.Value(id='state.cart_position', name='state.cart_position', unit='?'),\n",
       " 'state.cart_velocity': SessionData.Value(id='state.cart_velocity', name='state.cart_velocity', unit='?'),\n",
       " 'state.pole_angle': SessionData.Value(id='state.pole_angle', name='state.pole_angle', unit='?'),\n",
       " 'state.pole_angular_velocity': SessionData.Value(id='state.pole_angular_velocity', name='state.pole_angular_velocity', unit='?'),\n",
       " 'state.error': SessionData.Value(id='state.error', name='state.error', unit='?'),\n",
       " 'state.cart_acceleration': SessionData.Value(id='state.cart_acceleration', name='state.cart_acceleration', unit='?'),\n",
       " 'state.accelerometer_value': SessionData.Value(id='state.accelerometer_value', name='state.accelerometer_value', unit='?'),\n",
       " 'state.motor_angle': SessionData.Value(id='state.motor_angle', name='state.motor_angle', unit='?'),\n",
       " 'state.motor_velocity': SessionData.Value(id='state.motor_velocity', name='state.motor_velocity', unit='?'),\n",
       " 'expected.cart_position': SessionData.Value(id='expected.cart_position', name='expected.cart_position', unit='?'),\n",
       " 'expected.cart_velocity': SessionData.Value(id='expected.cart_velocity', name='expected.cart_velocity', unit='?'),\n",
       " 'expected.pole_angle': SessionData.Value(id='expected.pole_angle', name='expected.pole_angle', unit='?'),\n",
       " 'expected.pole_angular_velocity': SessionData.Value(id='expected.pole_angular_velocity', name='expected.pole_angular_velocity', unit='?'),\n",
       " 'expected.target': SessionData.Value(id='expected.target', name='expected.target', unit='?'),\n",
       " 'target.acceleration': SessionData.Value(id='target.acceleration', name='target.acceleration', unit='?')}"
      ]
     },
     "execution_count": 3,
     "metadata": {},
     "output_type": "execute_result"
    }
   ],
   "source": [
    "DATA.values"
   ]
  },
  {
   "cell_type": "code",
   "execution_count": 4,
   "id": "53c111ce",
   "metadata": {},
   "outputs": [],
   "source": [
    "# abs_pole_angles = []\n",
    "# rotations_arr = []\n",
    "# rotations = 0\n",
    "# prev = 0\n",
    "# max_delta = math.pi\n",
    "# for curr in DATA.values['state.pole_angle'].y:\n",
    "#     delta = curr - prev\n",
    "#     if delta > max_delta:\n",
    "#         rotations -= 1\n",
    "#     elif delta < -max_delta:\n",
    "#         rotations += 1\n",
    "#     abs_angle = 2 * math.pi * rotations + curr\n",
    "#     abs_pole_angles.append(abs_angle)\n",
    "#     rotations_arr.append(2 * math.pi * rotations)\n",
    "#     prev = curr\n",
    "    \n",
    "# id = 'abs_pole_angle'\n",
    "# DATA.values[id] = SessionData.Value(id, id, 'rad', DATA.values['state.pole_angle'].x, abs_pole_angles)\n",
    "# id = 'pole_rotations'\n",
    "# DATA.values[id] = SessionData.Value(id, id, 'rad', DATA.values['state.pole_angle'].x, rotations_arr)"
   ]
  },
  {
   "cell_type": "code",
   "execution_count": 5,
   "id": "c51bbb75",
   "metadata": {},
   "outputs": [
    {
     "data": {
      "text/html": [
       "\n",
       "        <iframe\n",
       "            width=\"\"\n",
       "            height=\"1600\"\n",
       "            src=\"http://localhost:44589/?id=_\"\n",
       "            frameborder=\"0\"\n",
       "            allowfullscreen\n",
       "            style=\"width: 100%\"\n",
       "        ></iframe>\n",
       "        "
      ],
      "text/plain": [
       "<IPython.lib.display.IFrame at 0x7f25e28e8350>"
      ]
     },
     "execution_count": 5,
     "metadata": {},
     "output_type": "execute_result"
    }
   ],
   "source": [
    "DATA.groups = [\n",
    "    SessionData.Group(name='Position', values=['state.cart_position', 'expected.cart_position']),\n",
    "    SessionData.Group(name='Velocity', values=['state.cart_velocity', 'expected.cart_velocity']),\n",
    "    SessionData.Group(name='Acceleration', values=['state.cart_acceleration', 'target.acceleration']),\n",
    "    SessionData.Group(name='Pole angle', values=['state.pole_angle', 'expected.pole_angle']),\n",
    "#     SessionData.Group(name='Absolute pole angle', values=['abs_pole_angle']),\n",
    "    SessionData.Group(name='Pole velocity', values=['state.pole_angular_velocity', 'expected.pole_angular_velocity']),\n",
    "]\n",
    "session_widget(DATA)"
   ]
  }
 ],
 "metadata": {
  "kernelspec": {
   "display_name": "Python 3 (ipykernel)",
   "language": "python",
   "name": "python3"
  },
  "language_info": {
   "codemirror_mode": {
    "name": "ipython",
    "version": 3
   },
   "file_extension": ".py",
   "mimetype": "text/x-python",
   "name": "python",
   "nbconvert_exporter": "python",
   "pygments_lexer": "ipython3",
   "version": "3.7.5"
  }
 },
 "nbformat": 4,
 "nbformat_minor": 5
}
