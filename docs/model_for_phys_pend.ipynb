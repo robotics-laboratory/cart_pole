{
 "cells": [
  {
   "cell_type": "markdown",
   "metadata": {},
   "source": [
    "## Energy\n",
    "Let's look at the dynamics of the entire system. The kinetic energy of cart is trivial\n",
    "$$T_c = \\frac{m_c}{2}(\\dot{x})^2$$\n",
    "\n",
    "Let's split pendulum's kinetic energy at rotational and translational parts, where $I$ is moment of inertia and $v_{pc}$ – velocity of mass center.\n",
    "\n",
    "$$T^r_p = \\frac{I(\\dot{\\theta})^2}{2}, ~ I= m_p l \\cdot (\\Psi - l)$$\n",
    "\n",
    "$$T^t_p = \\frac{m_p v^2_{pc}}{2}, ~ v^2_{pc} = \\dot{x}^2_{pc} + \\dot{y}^2_{pc}$$\n",
    "\n",
    "It is convenient to decompose the velocity of mass center into $x$ and $y$ axes' components (keep in mind that the pendulum moves with the cart along axe).\n",
    "\n",
    "$$\\dot{x}_{pc} = (\\dot{x}) + l(\\dot{\\theta})\\cos\\theta, ~ \\dot{y}_{pc} = l(\\dot{\\theta})\\sin\\theta$$\n",
    "\n",
    "So, for pole's kinetic energy we have\n",
    "$$T_p = T^r_p + T^t_p = \\frac{(m_c + m_p)}{2}(\\dot{x})^2 + \\frac{m_p l \\cdot \\Psi}{2}(\\dot{\\theta})^2 + m_p l \\cdot (\\dot{x})(\\dot{\\theta}) \\cos\\theta $$\n",
    "\n",
    "The potential energy of pendulum is depend on current angle $\\theta$ only\n",
    "$$U_p = -m_p gl\\cos\\theta$$"
   ]
  },
  {
   "cell_type": "markdown",
   "metadata": {},
   "source": [
    "### Dynamics\n",
    "To learn the dynamics of the system we use the Euler–Lagrange differential equation\n",
    "\n",
    "$$ L = T_c + T_p - U_p = \\frac{(m_c + m_p)}{2}(\\dot{x})^2 + \\frac{m_p l \\cdot \\Psi}{2}(\\dot{\\theta})^2  + m_p l\\cos\\theta \\cdot \\Big[g + (\\dot{x})(\\dot{\\theta}) \\Big]$$\n",
    "\n",
    "$$\\frac{d}{dt} \\frac{\\partial L} {\\partial \\dot{q}} - \\frac{\\partial L}{\\partial q} = Q,$$\n",
    "\n",
    "\n",
    "where $Q$ – the generalized force and $q=(x, \\theta)^T$. If we have control force $u$ along $x$ axe than \n",
    "\n",
    "$$\n",
    "\\begin{align*}\n",
    "(m_p + m_c) \\cdot (\\ddot{x}) + m_p l \\cdot \\Big[ (\\ddot{\\theta}) \\cos \\theta - (\\dot{\\theta})^2 \\sin \\theta \\Big] &= f_x \\\\\n",
    "(\\ddot{\\theta}) \\cdot \\Psi + (\\ddot{x}) \\cdot \\cos \\theta + g \\cdot \\sin \\theta &= 0 \\\\\n",
    "\\end{align*}\n",
    "$$\n",
    "\n",
    "Bellow you can find all needed partial derivative.\n",
    "\n",
    "$$\n",
    "\\begin{align*}\n",
    "    \\frac{\\partial L}{\\partial x} &= 0, \\\\\n",
    "    \\frac{\\partial L}{\\partial \\dot{x}} &= (m_c + m_p)(\\dot{x}) + m_p l \\cdot (\\dot{\\theta})\\cos\\theta \\\\\n",
    "    \\frac{d}{dt} \\frac{\\partial L}{\\partial \\dot{x}} &= (m_c + m_p)(\\ddot{x}) +\n",
    "    m_p l \\cdot \\big[ \n",
    "        (\\ddot{\\theta})\\cos\\theta - (\\dot{\\theta})^2\\sin\\theta\n",
    "    \\big] \\\\\n",
    "\\end{align*}  \n",
    "$$\n",
    "\n",
    "<br>\n",
    "\n",
    "$$\n",
    "\\begin{align*}\n",
    "    \\frac{\\partial L}{\\partial \\theta} &= \n",
    "    - m_p l \\sin \\theta \\cdot \\Big[g + (\\dot{x}) (\\dot{\\theta}) \\Big] \\\\\n",
    "    \\frac{\\partial L}{\\partial \\dot{\\theta}} &= \n",
    "    m_p l \\cdot \\Big[\\Psi (\\dot{\\theta}) + \\cos\\theta\\cdot(\\dot{x})\\Big] \\\\\n",
    "    \\frac{dL}{dt} \\frac{\\partial L}{\\partial \\dot{\\theta}} &= \n",
    "    m_p l \\cdot \\Big[\n",
    "        \\Psi(\\ddot{\\theta}) + \\cos\\theta\\cdot(\\ddot{x})  - \\sin \\theta \\cdot (\\dot{x})(\\dot{\\theta})\n",
    "    \\Big]. \\\\\n",
    "\\end{align*}\n",
    "$$\n"
   ]
  },
  {
   "cell_type": "markdown",
   "metadata": {},
   "source": [
    "##  Conclusion\n",
    "$$ \\ddot{\\theta} = - \\frac{(\\ddot{x})\\cos\\theta + g\\sin\\theta}{\\Psi} $$"
   ]
  },
  {
   "cell_type": "code",
   "execution_count": null,
   "metadata": {},
   "outputs": [],
   "source": []
  }
 ],
 "metadata": {
  "kernelspec": {
   "display_name": "Python 3",
   "language": "python",
   "name": "python3"
  },
  "language_info": {
   "codemirror_mode": {
    "name": "ipython",
    "version": 3
   },
   "file_extension": ".py",
   "mimetype": "text/x-python",
   "name": "python",
   "nbconvert_exporter": "python",
   "pygments_lexer": "ipython3",
   "version": "3.6.9"
  }
 },
 "nbformat": 4,
 "nbformat_minor": 4
}
